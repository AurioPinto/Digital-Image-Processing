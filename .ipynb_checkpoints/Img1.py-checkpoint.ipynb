{
 "cells": [
  {
   "cell_type": "code",
   "execution_count": 10,
   "metadata": {},
   "outputs": [],
   "source": [
    "import numpy\n",
    "import matplotlib.pyplot as plt\n",
    "import pandas"
   ]
  },
  {
   "cell_type": "code",
   "execution_count": 11,
   "metadata": {},
   "outputs": [],
   "source": [
    "import cv2"
   ]
  },
  {
   "cell_type": "code",
   "execution_count": 12,
   "metadata": {},
   "outputs": [],
   "source": [
    "%matplotlib inline"
   ]
  },
  {
   "cell_type": "code",
   "execution_count": 16,
   "metadata": {},
   "outputs": [
    {
     "ename": "SyntaxError",
     "evalue": "invalid syntax (<ipython-input-16-0e07219d9b9f>, line 3)",
     "output_type": "error",
     "traceback": [
      "\u001b[0;36m  File \u001b[0;32m\"<ipython-input-16-0e07219d9b9f>\"\u001b[0;36m, line \u001b[0;32m3\u001b[0m\n\u001b[0;31m    img = cv2.imread(img_path, cv2.IMREAD_ANYCOLOR)[:,:,::-1:]\u001b[0m\n\u001b[0m                                                            ^\u001b[0m\n\u001b[0;31mSyntaxError\u001b[0m\u001b[0;31m:\u001b[0m invalid syntax\n"
     ]
    }
   ],
   "source": [
    "img_path = \"/home/ap_tech/Pictures/West.jpg\"\n",
    "img_path = \"/home/ap_tech/Pictures/Nio.jpg\"\n",
    "img = cv2.imread(img_path, cv2.IMREAD_ANYCOLOR)[:,:,::-1]\n",
    "# plt.imshow(img)\n",
    "plt.imshow(img)\n",
    "# plt.axis(\"off\")"
   ]
  },
  {
   "cell_type": "code",
   "execution_count": null,
   "metadata": {},
   "outputs": [],
   "source": []
  },
  {
   "cell_type": "code",
   "execution_count": 1,
   "metadata": {},
   "outputs": [],
   "source": [
    "from scipy import signal\n",
    "import numpy as np\n",
    "from math import pi, exp"
   ]
  },
  {
   "cell_type": "code",
   "execution_count": 7,
   "metadata": {},
   "outputs": [],
   "source": [
    "class Kernel:\n",
    "\n",
    "    @staticmethod\n",
    "    def gauss_kernel(h, w, sigma=1):\n",
    "        gauss_matrix = np.zeros((h, w), dtype=np.float32)\n",
    "        center_h = (h - 1) >> 1\n",
    "        center_w = (w - 1) >> 1\n",
    "        coef = 1. / (2 * pi * sigma**2)\n",
    "        for i in range(h):\n",
    "            for j in range(w):\n",
    "                norm = (i - center_h)**2 + (j - center_w)**2\n",
    "                gauss_matrix[i][j] = coef * exp(- norm / (2 * sigma**2))\n",
    "\n",
    "        sum_matrix = np.sum(gauss_matrix)\n",
    "        gauss_matrix = gauss_matrix / sum_matrix\n",
    "        return gauss_matrix\n",
    "\n",
    "    @staticmethod\n",
    "    def mean_kernel():\n",
    "        pass\n",
    "\n",
    "\n",
    "if __name__ == \"__main__\":\n",
    "    gauss_k = Kernel.gauss_kernel(3, 3, sigma=2)\n",
    "    gauss_kx = Kernel.gauss_kernel(1, 3, sigma=2)\n",
    "    gauss_ky = Kernel.gauss_kernel(3, 1, sigma=2)\n",
    "    print(gauss_k, gauss_kx, gauss_ky, sep ='\\n')\n",
    "\n",
    "    gauss_xy = signal.convolve2d(gauss_kx, gauss_ky, mode='full', boundary='fill', fillvalue=0)\n",
    "    print(gauss_xy)\n"
   ]
  },
  {
   "cell_type": "code",
   "execution_count": null,
   "metadata": {},
   "outputs": [],
   "source": []
  }
 ],
 "metadata": {
  "kernelspec": {
   "display_name": "Python [conda env:west]",
   "language": "python",
   "name": "conda-env-west-py"
  },
  "language_info": {
   "codemirror_mode": {
    "name": "ipython",
    "version": 2
   },
   "file_extension": ".py",
   "mimetype": "text/x-python",
   "name": "python",
   "nbconvert_exporter": "python",
   "pygments_lexer": "ipython2",
   "version": "2.7.15"
  }
 },
 "nbformat": 4,
 "nbformat_minor": 2
}
